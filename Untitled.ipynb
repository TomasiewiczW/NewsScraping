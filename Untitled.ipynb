{
 "cells": [
  {
   "cell_type": "code",
   "execution_count": 29,
   "metadata": {},
   "outputs": [],
   "source": [
    "from bs4 import BeautifulSoup\n",
    "from urllib.request import urlopen\n",
    "import requests"
   ]
  },
  {
   "cell_type": "code",
   "execution_count": 30,
   "metadata": {},
   "outputs": [],
   "source": [
    "# hyperlinks\n",
    "\n",
    "interiaHyperlink = 'https://wydarzenia.interia.pl'\n",
    "onetHyperlink = 'https://www.onet.pl/'"
   ]
  },
  {
   "cell_type": "code",
   "execution_count": 31,
   "metadata": {},
   "outputs": [
    {
     "name": "stdout",
     "output_type": "stream",
     "text": [
      "Number of news: 17\n",
      "Grozev: Jeśli Putin wyda rozkaz ataku nuklearnego, generałowie go zignorują\n",
      "https://wydarzenia.interia.pl/raporty/raport-ukraina-rosja/aktualnosci/news-grozev-jesli-putin-wyda-rozkaz-ataku-nuklearnego-generalowie,nId,6007166\n",
      "\"Nocne Wilki\" w Berlinie. \"Budzący postrach motocykliści\"\n",
      "https://wydarzenia.interia.pl/raporty/raport-ukraina-rosja/aktualnosci/news-nocne-wilki-w-berlinie-budzacy-postrach-motocyklisci,nId,6007583\n",
      "Ukraina szykuje się na rosyjskie święto. Codziennie ujawnia dywersantów\n",
      "https://wydarzenia.interia.pl/raporty/raport-ukraina-rosja/aktualnosci/news-ukraina-szykuje-sie-na-rosyjskie-swieto-codziennie-ujawnia-d,nId,6007575\n",
      "Polub nas na Facebook\n",
      "https://wydarzenia.interia.plhttps://www.facebook.com/INTERIAWydarzenia/\n",
      "Wojna Rosja-Ukraina. Raport dnia - piątek, 6 maja\n",
      "https://wydarzenia.interia.pl/raporty/raport-ukraina-rosja/aktualnosci/news-wojna-rosja-ukraina-raport-dnia-piatek-6-maja,nId,6007474\n",
      "Warmińsko-mazurskie: Sześciolatek ciężko ranny w wypadku na przejeździe kolejowym\n",
      "https://wydarzenia.interia.pl/warminsko-mazurskie/news-warminsko-mazurskie-szesciolatek-ciezko-ranny-w-wypadku-na-p,nId,6007557\n",
      "\"Nie możemy potwierdzić\". Pentagon o zatopieniu rosyjskiej fregaty\n",
      "https://wydarzenia.interia.pl/raporty/raport-ukraina-rosja/aktualnosci/news-nie-mozemy-potwierdzic-pentagon-o-zatopieniu-rosyjskiej-freg,nId,6007553\n",
      "Media: Prezydent USA zatwierdzi kolejny pakiet pomocy wojskowej dla Ukrainy\n",
      "https://wydarzenia.interia.pl/raporty/raport-ukraina-rosja/aktualnosci/news-media-prezydent-usa-zatwierdzi-kolejny-pakiet-pomocy-wojskow,nId,6007524\n",
      "Sztab generalny: Siły ukraińskie wyzwoliły pięć miejscowości w obwodzie charkowskim\n",
      "https://wydarzenia.interia.pl/raporty/raport-ukraina-rosja/aktualnosci/news-sztab-generalny-sily-ukrainskie-wyzwolily-piec-miejscowosci-,nId,6007502\n",
      "Siewierodonieck: Mimo rosyjskiego ataku mieszkańcy nie chcą opuszczać domów\n",
      "https://wydarzenia.interia.pl/raporty/raport-ukraina-rosja/aktualnosci/news-siewierodonieck-mimo-rosyjskiego-ataku-mieszkancy-nie-chca-o,nId,6007501\n",
      "Belgijska gazeta: Nie wszyscy światowi liderzy uważają Putina za złoczyńcę\n",
      "https://wydarzenia.interia.pl/raporty/raport-ukraina-rosja/aktualnosci/news-belgijska-gazeta-nie-wszyscy-swiatowi-liderzy-uwazaja-putina,nId,6007482\n",
      "Kuba: Wybuch w hotelu w Hawanie. Zginęło co najmniej osiem osób\n",
      "https://wydarzenia.interia.pl/zagranica/news-kuba-wybuch-w-hotelu-w-hawanie-zginelo-co-najmniej-osiem-oso,nId,6007468\n",
      "Premier Ukrainy dziękuje Mateuszowi Morawieckiemu za akcję \"Stop Russia Now!\"\n",
      "https://wydarzenia.interia.pl/raporty/raport-ukraina-rosja/aktualnosci/news-premier-ukrainy-dziekuje-mateuszowi-morawieckiemu-za-akcje-s,nId,6007467\n",
      "Matura 2022: Język niemiecki podstawowy. Arkusz CKE i odpowiedzi \n",
      "https://wydarzenia.interia.pl/raporty/raport-matura-2022/arkusze/news-matura-2022-jezyk-niemiecki-podstawowy-arkusz-cke-i-odpowied,nId,6006645\n",
      "Były wiceprezes Gazprombanku: Śmierć rosyjskich menadżerów to nie były samobójstwa\n",
      "https://wydarzenia.interia.pl/raporty/raport-ukraina-rosja/aktualnosci/news-byly-wiceprezes-gazprombanku-smierc-rosyjskich-menadzerow-to,nId,6007453\n",
      "Kalisz: Pies odgryzł ucho kobiecie, która odpracowywała karę w schronisku dla zwierząt\n",
      "https://wydarzenia.interia.pl/wielkopolskie/news-kalisz-pies-odgryzl-ucho-kobiecie-ktora-odpracowywala-kare-w,nId,6007298\n",
      "Były szef Pentagonu: Trump chciał zbombardować kartele w Meksyku\n",
      "https://wydarzenia.interia.pl/zagranica/news-byly-szef-pentagonu-trump-chcial-zbombardowac-kartele-w-meks,nId,6007302\n"
     ]
    }
   ],
   "source": [
    "# get interia links\n",
    "\n",
    "html_text = requests.get(interiaHyperlink)\n",
    "soup = BeautifulSoup(html_text.text)\n",
    "\n",
    "newsOfTheDay = soup.find_all('a', class_ = 'tile-magazine-title-url')\n",
    "\n",
    "print(\"Number of news: \" + str(len(newsOfTheDay)))\n",
    "\n",
    "for m in newsOfTheDay:\n",
    "    print(m['title'])\n",
    "    print(interiaHyperlink+m['href'])\n"
   ]
  },
  {
   "cell_type": "code",
   "execution_count": 33,
   "metadata": {},
   "outputs": [
    {
     "ename": "NameError",
     "evalue": "name 'a' is not defined",
     "output_type": "error",
     "traceback": [
      "\u001b[1;31m---------------------------------------------------------------------------\u001b[0m",
      "\u001b[1;31mNameError\u001b[0m                                 Traceback (most recent call last)",
      "Input \u001b[1;32mIn [33]\u001b[0m, in \u001b[0;36m<cell line: 1>\u001b[1;34m()\u001b[0m\n\u001b[1;32m----> 1\u001b[0m html_text \u001b[38;5;241m=\u001b[39m requests\u001b[38;5;241m.\u001b[39mget(\u001b[43ma\u001b[49m[\u001b[38;5;124m'\u001b[39m\u001b[38;5;124mhref\u001b[39m\u001b[38;5;124m'\u001b[39m])\n\u001b[0;32m      2\u001b[0m soup \u001b[38;5;241m=\u001b[39m BeautifulSoup(html_text\u001b[38;5;241m.\u001b[39mtext)\n\u001b[0;32m      3\u001b[0m article_container \u001b[38;5;241m=\u001b[39m soup\u001b[38;5;241m.\u001b[39mfind(\u001b[38;5;124m'\u001b[39m\u001b[38;5;124mdiv\u001b[39m\u001b[38;5;124m'\u001b[39m, class_ \u001b[38;5;241m=\u001b[39m \u001b[38;5;124m'\u001b[39m\u001b[38;5;124marticle-container\u001b[39m\u001b[38;5;124m'\u001b[39m)\n",
      "\u001b[1;31mNameError\u001b[0m: name 'a' is not defined"
     ]
    }
   ],
   "source": [
    "html_text = requests.get(a['href'])\n",
    "soup = BeautifulSoup(html_text.text)\n",
    "article_container = soup.find('div', class_ = 'article-container')\n",
    "\n",
    "article_body = article_container.find_all('p')\n",
    "\n",
    "for i in article_body:\n",
    "    print(i.text)\n"
   ]
  },
  {
   "cell_type": "code",
   "execution_count": null,
   "metadata": {},
   "outputs": [],
   "source": []
  },
  {
   "cell_type": "code",
   "execution_count": null,
   "metadata": {},
   "outputs": [],
   "source": []
  }
 ],
 "metadata": {
  "kernelspec": {
   "display_name": "Python 3 (ipykernel)",
   "language": "python",
   "name": "python3"
  },
  "language_info": {
   "codemirror_mode": {
    "name": "ipython",
    "version": 3
   },
   "file_extension": ".py",
   "mimetype": "text/x-python",
   "name": "python",
   "nbconvert_exporter": "python",
   "pygments_lexer": "ipython3",
   "version": "3.9.12"
  }
 },
 "nbformat": 4,
 "nbformat_minor": 4
}
