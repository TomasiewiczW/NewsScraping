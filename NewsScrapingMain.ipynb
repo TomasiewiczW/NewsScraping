{
 "cells": [
  {
   "cell_type": "code",
   "execution_count": 13,
   "metadata": {},
   "outputs": [],
   "source": [
    "# import\n",
    "\n",
    "from selenium import webdriver\n",
    "from selenium.webdriver.common.by import By\n",
    "from selenium.webdriver.chrome.service import Service\n",
    "from datetime import date\n",
    "import time\n",
    "from bs4 import BeautifulSoup\n",
    "import pandas as pd\n",
    "import requests\n",
    "import os"
   ]
  },
  {
   "cell_type": "code",
   "execution_count": 19,
   "metadata": {},
   "outputs": [],
   "source": [
    "# hyperlinks\n",
    "\n",
    "interia_hyperlink = 'https://wydarzenia.interia.pl'\n",
    "onet_hyperlink = 'https://www.onet.pl/'\n",
    "\n",
    "try:\n",
    "    path = os.getcwd() + '\\\\' + str(date.today()) + '\\\\'\n",
    "    os.mkdir(path)\n",
    "except:\n",
    "    print('Error: Directory already exists')\n",
    "\n",
    "try:\n",
    "    path = path + 'interia\\\\'\n",
    "    os.mkdir(path)\n",
    "except:\n",
    "    print('Error: Directory already exists')"
   ]
  },
  {
   "cell_type": "code",
   "execution_count": 15,
   "metadata": {},
   "outputs": [
    {
     "name": "stdout",
     "output_type": "stream",
     "text": [
      "Show more button clicked\n",
      "Show more button clicked\n",
      "Show more button clicked\n",
      "Show more button clicked\n",
      "Show more button clicked\n",
      "All loaded\n"
     ]
    }
   ],
   "source": [
    "# loading interia links on page\n",
    "\n",
    "s = Service('chromedriver.exe')\n",
    "driver = webdriver.Chrome(service=s)\n",
    "driver.get(interia_hyperlink)\n",
    "button_div_xpath = \"/html/body/div[7]/div/div/section/div\"\n",
    "\n",
    "time.sleep(1)\n",
    "while True:\n",
    "    try:       \n",
    "        show_more_button_div = driver.find_element(By.XPATH, button_div_xpath)\n",
    "        s = BeautifulSoup(show_more_button_div.get_attribute('innerHTML'))\n",
    "        s2 = s.find('button')\n",
    "        #print(str(s2['class']))\n",
    "        \n",
    "        if \"hidden\" in str(s2['class']):\n",
    "            print(\"All loaded\")\n",
    "            break        \n",
    "        \n",
    "        show_more_button = driver.find_element(By.XPATH, button_div_xpath + \"/button\")\n",
    "        driver.execute_script(\"arguments[0].click();\", show_more_button)\n",
    "        print(\"Show more button clicked\")\n",
    "        time.sleep(0.5)\n",
    "    except:\n",
    "        print(\"Error: No \\\"Show more\\\" button detected\")\n",
    "        break\n",
    "        \n",
    "html_text = driver.page_source\n",
    "driver.close()\n"
   ]
  },
  {
   "cell_type": "code",
   "execution_count": 20,
   "metadata": {},
   "outputs": [
    {
     "name": "stdout",
     "output_type": "stream",
     "text": [
      "Link does not work: 3\n",
      "Link does not work: 10\n",
      "Link does not work: 50\n"
     ]
    }
   ],
   "source": [
    "# get interia links\n",
    "\n",
    "soup = BeautifulSoup(html_text)\n",
    "news_soup = soup.find_all('a', class_ = 'tile-magazine-title-url')\n",
    "#print(\"Number of links: \" + str(len(news_soup)))\n",
    "\n",
    "d = {'Title': [], 'Address':[], 'Article text':[]}\n",
    "news_DF = pd.DataFrame(data=d)\n",
    "\n",
    "for n in news_soup:  \n",
    "    address = interia_hyperlink + n['href']\n",
    "    \n",
    "    try:\n",
    "        news_html = requests.get(address)\n",
    "    \n",
    "        soup = BeautifulSoup(news_html.text)\n",
    "        article_container = soup.find('div', class_ = 'article-container')\n",
    "\n",
    "        article_body = article_container.find_all('p')\n",
    "\n",
    "        #remove block of text - useless\n",
    "        article_body.pop(1)\n",
    "        #remove advertisment\n",
    "        article_body.pop(len(article_body)-1)\n",
    "        \n",
    "        #add article lines to one text\n",
    "        t = ''\n",
    "        for i in article_body:\n",
    "        #print(i.text)\n",
    "            t = t + ' ' + i.text\n",
    "\n",
    "        #create DF\n",
    "        x = pd.DataFrame(data={'Title': [n['title']], 'Address': [address], 'Article text': [t]})\n",
    "        news_DF = pd.concat([news_DF, x], ignore_index = True)\n",
    "        \n",
    "        #save to separate files\n",
    "        with open(path + str(len(news_DF.index)) + \".txt\", \"w\", encoding=\"utf-8\") as f:\n",
    "            f.write(t)\n",
    "    except:\n",
    "        print(\"Link does not work: \" + str(len(news_DF.index))) \n",
    "    \n",
    "#print(\"Number of scraped articles: \" + str(len(news_DF)))\n",
    "\n",
    "\n",
    "news_DF.to_csv( path + 'News '+ str(date.today()) + '.csv', sep=';')"
   ]
  },
  {
   "cell_type": "code",
   "execution_count": 23,
   "metadata": {},
   "outputs": [
    {
     "ename": "ModuleNotFoundError",
     "evalue": "No module named 'morfeusz2'",
     "output_type": "error",
     "traceback": [
      "\u001b[1;31m---------------------------------------------------------------------------\u001b[0m",
      "\u001b[1;31mModuleNotFoundError\u001b[0m                       Traceback (most recent call last)",
      "Input \u001b[1;32mIn [23]\u001b[0m, in \u001b[0;36m<cell line: 1>\u001b[1;34m()\u001b[0m\n\u001b[1;32m----> 1\u001b[0m \u001b[38;5;28;01mimport\u001b[39;00m \u001b[38;5;21;01mmorfeusz2\u001b[39;00m\n\u001b[0;32m      4\u001b[0m x \u001b[38;5;241m=\u001b[39m morfeusz2\u001b[38;5;241m.\u001b[39mMorfeusz()\n\u001b[0;32m      5\u001b[0m a \u001b[38;5;241m=\u001b[39m t\n",
      "\u001b[1;31mModuleNotFoundError\u001b[0m: No module named 'morfeusz2'"
     ]
    }
   ],
   "source": [
    "import morfeusz2\n",
    "\n",
    "\n",
    "x = morfeusz2.Morfeusz()\n",
    "a = t\n",
    "result = x.analyse(a)\n",
    "\n",
    "print(a)\n",
    "for r in result:\n",
    "    print(r)"
   ]
  }
 ],
 "metadata": {
  "kernelspec": {
   "display_name": "Python 3 (ipykernel)",
   "language": "python",
   "name": "python3"
  },
  "language_info": {
   "codemirror_mode": {
    "name": "ipython",
    "version": 3
   },
   "file_extension": ".py",
   "mimetype": "text/x-python",
   "name": "python",
   "nbconvert_exporter": "python",
   "pygments_lexer": "ipython3",
   "version": "3.8.13"
  }
 },
 "nbformat": 4,
 "nbformat_minor": 4
}
