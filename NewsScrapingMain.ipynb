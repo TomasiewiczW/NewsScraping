{
 "cells": [
  {
   "cell_type": "code",
   "execution_count": 46,
   "metadata": {},
   "outputs": [],
   "source": [
    "# import\n",
    "\n",
    "from selenium import webdriver\n",
    "from selenium.webdriver.common.by import By\n",
    "from selenium.webdriver.chrome.service import Service\n",
    "from datetime import date\n",
    "import time\n",
    "from bs4 import BeautifulSoup\n",
    "import pandas as pd\n",
    "import requests"
   ]
  },
  {
   "cell_type": "code",
   "execution_count": 2,
   "metadata": {},
   "outputs": [],
   "source": [
    "# hyperlinks\n",
    "\n",
    "interiaHyperlink = 'https://wydarzenia.interia.pl'\n",
    "onetHyperlink = 'https://www.onet.pl/'"
   ]
  },
  {
   "cell_type": "code",
   "execution_count": 3,
   "metadata": {},
   "outputs": [
    {
     "name": "stdout",
     "output_type": "stream",
     "text": [
      "Show more button clicked\n",
      "Show more button clicked\n",
      "Show more button clicked\n",
      "Show more button clicked\n",
      "Show more button clicked\n",
      "All loaded\n"
     ]
    }
   ],
   "source": [
    "# loading interia links on page\n",
    "\n",
    "s = Service('chromedriver.exe')\n",
    "driver = webdriver.Chrome(service=s)\n",
    "driver.get(\"https://wydarzenia.interia.pl/\")\n",
    "button_div_xpath = \"/html/body/div[7]/div/div/section/div\"\n",
    "\n",
    "time.sleep(1)\n",
    "while True:\n",
    "    try:       \n",
    "        show_more_button_div = driver.find_element(By.XPATH, button_div_xpath)\n",
    "        s = BeautifulSoup(show_more_button_div.get_attribute('innerHTML'))\n",
    "        s2 = s.find('button')\n",
    "        #print(str(s2['class']))\n",
    "        \n",
    "        if \"hidden\" in str(s2['class']):\n",
    "            print(\"All loaded\")\n",
    "            break        \n",
    "        \n",
    "        show_more_button = driver.find_element(By.XPATH, button_div_xpath + \"/button\")\n",
    "        driver.execute_script(\"arguments[0].click();\", show_more_button)\n",
    "        print(\"Show more button clicked\")\n",
    "        time.sleep(0.5)\n",
    "    except:\n",
    "        print(\"Error: No \\\"Show more\\\" button detected\")\n",
    "        break\n",
    "        \n",
    "html_text = driver.page_source\n",
    "driver.close()\n"
   ]
  },
  {
   "cell_type": "code",
   "execution_count": 52,
   "metadata": {},
   "outputs": [
    {
     "name": "stdout",
     "output_type": "stream",
     "text": [
      "                                                 Title  \\\n",
      "0    Eksplozja w pięciogwiazdkowym hotelu w Hawanie...   \n",
      "1        Media: Zniszczono okręt u wybrzeży Wyspy Węży   \n",
      "2    Zasadzka bez wyjścia. Ukraińcy opublikowali na...   \n",
      "3                                Polub nas na Facebook   \n",
      "4    Zakaz noszenia ukraińskich flag w Berlinie. Am...   \n",
      "..                                                 ...   \n",
      "102  Tusk: Najbliższe wybory będą wolne, ale nie bę...   \n",
      "103  Orban o sankcjach przeciw Rosji: Historyczna k...   \n",
      "104  Zamach terrorystyczny w Izraelu. Są ofiary śmi...   \n",
      "105     Premier Morawiecki: Putin popełnia ludobójstwo   \n",
      "106  Deskorolkarze odwiedzili ukraińskie dzieci w O...   \n",
      "\n",
      "                                               Address  \n",
      "0    https://wydarzenia.interia.pl/zagranica/news-e...  \n",
      "1    https://wydarzenia.interia.pl/raporty/raport-u...  \n",
      "2    https://wydarzenia.interia.pl/raporty/raport-u...  \n",
      "3    https://wydarzenia.interia.plhttps://www.faceb...  \n",
      "4    https://wydarzenia.interia.pl/raporty/raport-u...  \n",
      "..                                                 ...  \n",
      "102  https://wydarzenia.interia.pl/kraj/news-tusk-n...  \n",
      "103  https://wydarzenia.interia.pl/raporty/raport-u...  \n",
      "104  https://wydarzenia.interia.pl/zagranica/news-z...  \n",
      "105  https://wydarzenia.interia.pl/raporty/raport-u...  \n",
      "106  https://wydarzenia.interia.pl/kraj/news-deskor...  \n",
      "\n",
      "[107 rows x 2 columns]\n",
      "\n"
     ]
    }
   ],
   "source": [
    "# get interia links\n",
    "\n",
    "soup = BeautifulSoup(html_text)\n",
    "news_soup = soup.find_all('a', class_ = 'tile-magazine-title-url')\n",
    "#print(\"Number of news: \" + str(len(news_soup)))\n",
    "\n",
    "d = {'Title': [], 'Address':[]}\n",
    "news_DF = pd.DataFrame(data=d)\n",
    "\n",
    "for m in news_soup:  \n",
    "    x = pd.DataFrame(data={'Title': [m['title']], 'Address': [interiaHyperlink + m['href']]})\n",
    "    news_DF = pd.concat([news_DF, x], ignore_index = True)\n",
    "\n",
    "print(news_DF)    \n",
    "\n",
    "print()\n",
    "\n",
    "news_DF.to_csv( 'News '+ str(date.today()) + '.csv', sep=';')"
   ]
  },
  {
   "cell_type": "code",
   "execution_count": null,
   "metadata": {},
   "outputs": [],
   "source": [
    "html_text = requests.get(a['href'])\n",
    "soup = BeautifulSoup(html_text.text)\n",
    "article_container = soup.find('div', class_ = 'article-container')\n",
    "\n",
    "article_body = article_container.find_all('p')\n",
    "\n",
    "for i in article_body:\n",
    "    print(i.text)\n"
   ]
  },
  {
   "cell_type": "code",
   "execution_count": 76,
   "metadata": {},
   "outputs": [
    {
     "name": "stdout",
     "output_type": "stream",
     "text": [
      "Problemy Rosjan. Media: Chcą uciec z Wyspy Węży\n",
      "(0, 1, ('Problemy', 'problem', 'subst:pl:nom.acc.voc:m3', ['nazwa_pospolita'], []))\n",
      "(1, 2, ('Rosjan', 'Rosjanin', 'subst:pl:gen.acc:m1', ['nazwa_pospolita'], []))\n",
      "(2, 3, ('.', '.', 'interp', [], []))\n",
      "(3, 4, ('Media', 'media', 'subst:pl:nom.acc.voc:n:pt', ['nazwa_pospolita'], []))\n",
      "(3, 4, ('Media', 'medium', 'subst:pl:nom.acc.voc:n:ncol', ['nazwa_pospolita'], []))\n",
      "(4, 5, (':', ':', 'interp', [], []))\n",
      "(5, 6, ('Chcą', 'chcieć', 'fin:pl:ter:imperf', [], []))\n",
      "(6, 7, ('uciec', 'uciec', 'inf:perf', [], []))\n",
      "(7, 8, ('z', 'z:P', 'prep:gen:nwok', [], []))\n",
      "(7, 8, ('z', 'z:P', 'prep:inst:nwok', [], []))\n",
      "(7, 8, ('z', 'z:T', 'part:nwok', [], []))\n",
      "(8, 9, ('Wyspy', 'wyspa', 'subst:sg:gen:f', ['nazwa_pospolita'], []))\n",
      "(8, 9, ('Wyspy', 'wyspa', 'subst:pl:nom.acc.voc:f', ['nazwa_pospolita'], []))\n",
      "(8, 9, ('Wyspy', 'Wyspa', 'subst:sg:gen:f', ['nazwa_geograficzna'], []))\n",
      "(8, 9, ('Wyspy', 'Wyspa', 'subst:pl:nom.acc.voc:f', ['nazwa_geograficzna'], []))\n",
      "(9, 10, ('Węży', 'Węża', 'subst:sg:gen:f', ['nazwa_geograficzna'], []))\n",
      "(9, 10, ('Węży', 'Węża', 'subst:sg:dat.loc:f', ['nazwa_geograficzna'], []))\n",
      "(9, 10, ('Węży', 'Węża', 'subst:pl:gen:f', ['nazwa_geograficzna'], []))\n",
      "(9, 10, ('Węży', 'Węże', 'subst:pl:gen:n:pt', ['nazwa_geograficzna'], []))\n",
      "(9, 10, ('Węży', 'wąż:Sm2', 'subst:pl:gen:m2', ['nazwa_pospolita'], []))\n",
      "(9, 10, ('Węży', 'wąż:Sm2.m3', 'subst:pl:gen:m2', ['nazwa_pospolita'], ['pot.']))\n",
      "(9, 10, ('Węży', 'węży', 'adj:pl:nom.voc:m1:pos', [], ['daw.']))\n",
      "(9, 10, ('Węży', 'węży', 'adj:sg:acc:m3:pos', [], ['daw.']))\n",
      "(9, 10, ('Węży', 'węży', 'adj:sg:nom.voc:m1.m2.m3:pos', [], ['daw.']))\n"
     ]
    }
   ],
   "source": [
    "import morfeusz2\n",
    "\n",
    "\n",
    "x = morfeusz2.Morfeusz()\n",
    "a = news_DF.loc[10, 'Title']\n",
    "result = x.analyse(a)\n",
    "\n",
    "print(a)\n",
    "for r in result:\n",
    "    print(r)"
   ]
  },
  {
   "cell_type": "code",
   "execution_count": null,
   "metadata": {},
   "outputs": [],
   "source": []
  }
 ],
 "metadata": {
  "kernelspec": {
   "display_name": "Python 3 (ipykernel)",
   "language": "python",
   "name": "python3"
  },
  "language_info": {
   "codemirror_mode": {
    "name": "ipython",
    "version": 3
   },
   "file_extension": ".py",
   "mimetype": "text/x-python",
   "name": "python",
   "nbconvert_exporter": "python",
   "pygments_lexer": "ipython3",
   "version": "3.9.12"
  }
 },
 "nbformat": 4,
 "nbformat_minor": 4
}
