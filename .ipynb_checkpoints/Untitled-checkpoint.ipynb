{
 "cells": [
  {
   "cell_type": "code",
   "execution_count": 1,
   "metadata": {},
   "outputs": [],
   "source": [
    "from bs4 import BeautifulSoup\n",
    "from urllib.request import urlopen\n",
    "import requests\n",
    "\n",
    "from lxml import html\n",
    "import requests\n",
    "\n",
    "page = requests.get('http://econpy.pythonanywhere.com/ex/001.html')\n",
    "tree = html.fromstring(page.content)\n",
    "#This will create a list of buyers:\n",
    "buyers = tree.xpath('//div[@title=\"buyer-name\"]/text()')\n"
   ]
  },
  {
   "cell_type": "code",
   "execution_count": 3,
   "metadata": {},
   "outputs": [
    {
     "name": "stdout",
     "output_type": "stream",
     "text": [
      "Ukraińcy obronili ostatni bastion Mariupola. Rosjanie wypchnięci z Azowstalu\n",
      "https://wydarzenia.interia.pl/raporty/raport-ukraina-rosja/aktualnosci/na-zywo-wojna-w-ukrainie-71-dzien-inwazji-rosji-relacja-na-zywo,nzId,2321,akt,051357,mHash,25aef35b4a290e4e2ccb6c5d3c0398b4\n",
      "Ukraińcy szykują się do zdecydowanej kontrofensywy. Padł termin \n",
      "https://wydarzenia.interia.pl/raporty/raport-ukraina-rosja/aktualnosci/news-ukraincy-przygotowuja-kontrofensywe-podano-termin,nId,6004662\n",
      "Nowe oddziały Czeczenów wysłane na front. Kadyrow opublikował nagranie\n",
      "https://wydarzenia.interia.pl/raporty/raport-ukraina-rosja/aktualnosci/news-kadyrow-dostarcza-tiktokerow-czeczenscy-bojownicy-obiektem-z,nId,6004660\n",
      "Apel zastępcy dowódcy Azowa: Pozwólcie wynieść ciała bojowników\n",
      "https://wydarzenia.interia.pl/raporty/raport-ukraina-rosja/aktualnosci/news-zastepca-dowodcy-azowa-sytuacja-jest-krytyczna-rosjanie-nie-,nId,6004691\n",
      "Hurkacz stoczył dreszczowca w pierwszym secie. Ależ końcówka!\n",
      "https://sport.interia.pl/tenis/na-zywo-hubert-hurkacz-duszan-lajovic-w-trzeciej-rundzie-turnieju-at,nzId,2322,akt,051109\n",
      "Matura z matematyki. Mamy arkusze i odpowiedzi\n",
      "https://wydarzenia.interia.pl/raporty/raport-matura-2022/arkusze/news-matura-2022-zobacz-arkusz-cke-i-odpowiedzi-z-matematyki,nId,6004436\n",
      "Polska ma nowy gazociąg. \"Mądrzy przed szkodą\"\n",
      "https://wydarzenia.interia.pl/zagranica/news-otwarcie-interkonektora-polska-litwa-madrzy-przed-szkoda,nId,6004517\n",
      "15-latek z poświęceniem ratował zwierzęta. Ewakuacja zakończona tragedią\n",
      "https://wydarzenia.interia.pl/raporty/raport-ukraina-rosja/aktualnosci/news-ostrzal-charkowa-nie-zyje-wolontariusz-ktory-ewakuowal-zwier,nId,6004669\n"
     ]
    }
   ],
   "source": [
    "html_text = requests.get('https://www.interia.pl/')\n",
    "soup = BeautifulSoup(html_text.text)\n",
    "main_news = soup.find_all('li', class_ = 'wiadspec-li tile tile-standard')\n",
    "x = []\n",
    "\n",
    "for m in main_news:\n",
    "    a = m.find('a', class_ = 'tile-a')\n",
    "    print(a['title'])\n",
    "    print(a['href'])\n",
    "   "
   ]
  },
  {
   "cell_type": "code",
   "execution_count": 4,
   "metadata": {},
   "outputs": [
    {
     "name": "stdout",
     "output_type": "stream",
     "text": [
      "Rosjanie nie oszczędzają nawet ogrodów zoologicznych. Podczas ewakuacji zwierząt z ekoparku w Charkowie zginął młody wolontariusz, który pomagał ratować przed ostrzałem afrykańskie bawoły.\n",
      "\n",
      "\n",
      "15-letni wolontariusz zginął, a dwóch pracowników zostały ciężko rannych w czwartek podczas ewakuacji zwierząt z ostrzeliwanego przez wojska rosyjskie ekoparku w Charkowie na północnym wschodzie Ukrainy - poinformował założyciel parku Ołeksandr Feldman na Facebooku.\n",
      "Ekopark został w czwartek ostrzelany po raz kolejny. Doszło do tego podczas ewakuacji afrykańskich bawołów.\n",
      "\"Dwie osoby doznały poważnych obrażeń. Lekarze walczą o ich życie. Zabity chłopiec miał tylko 15 lat. Pomagał rodzicom w hodowaniu i ewakuacji zwierząt\" - napisał Feldman, dodając, że jest to już szósta ofiara śmiertelna wśród osób związanych z ekoparkiem.\n",
      "Wyrażaj emocje pomagając!\n"
     ]
    }
   ],
   "source": [
    "#html_text = requests.get('https://historia.interia.pl/prl/news-24-sierpnia-1953-roku-polska-zrzekla-sie-reparacji-od-niemie,nId,5437639')\n",
    "html_text = requests.get(a['href'])\n",
    "soup = BeautifulSoup(html_text.text)\n",
    "article_container = soup.find('div', class_ = 'article-container')\n",
    "\n",
    "article_body = article_container.find_all('p')\n",
    "\n",
    "for i in article_body:\n",
    "    print(i.text)\n"
   ]
  },
  {
   "cell_type": "code",
   "execution_count": null,
   "metadata": {},
   "outputs": [],
   "source": []
  }
 ],
 "metadata": {
  "kernelspec": {
   "display_name": "Python 3 (ipykernel)",
   "language": "python",
   "name": "python3"
  },
  "language_info": {
   "codemirror_mode": {
    "name": "ipython",
    "version": 3
   },
   "file_extension": ".py",
   "mimetype": "text/x-python",
   "name": "python",
   "nbconvert_exporter": "python",
   "pygments_lexer": "ipython3",
   "version": "3.8.13"
  }
 },
 "nbformat": 4,
 "nbformat_minor": 4
}
